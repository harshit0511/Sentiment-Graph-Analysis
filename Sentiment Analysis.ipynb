{
 "cells": [
  {
   "cell_type": "markdown",
   "metadata": {},
   "source": [
    "# Data Science"
   ]
  },
  {
   "cell_type": "markdown",
   "metadata": {},
   "source": [
    "## Sentiment analysis\n",
    "\n",
    "In this segment we will be looking at a directed, signed network regarding Wikipedia editors who want to become an administrator. In order for this to happen, a request for adminship (RfA) is submitted, either by the candidate or by another community member. Subsequently, any Wikipedia member may cast a supporting, neutral, or opposing vote.\n",
    "\n",
    "The dataset and further description can be found here:\n",
    "https://snap.stanford.edu/data/wiki-RfA.html\n",
    "\n",
    "In sum, nodes represent Wikipedia members and edges represent votes. Each entry in the dataset also includes text of a comment associated with the vote.\n",
    "\n"
   ]
  },
  {
   "cell_type": "markdown",
   "metadata": {},
   "source": [
    "#### 1. Converting the data into a pandas `DataFrame()`, which will have one column for each of the data attributes, SRC, TGT, etc."
   ]
  },
  {
   "cell_type": "code",
   "execution_count": null,
   "metadata": {},
   "outputs": [],
   "source": [
    "import numpy as np\n",
    "import pandas as pd\n",
    "import matplotlib.pyplot as plt\n",
    "from sklearn.cross_validation import train_test_split\n",
    "from sklearn.feature_extraction.text import CountVectorizer\n",
    "from sklearn.feature_extraction.text import TfidfVectorizer\n",
    "from sklearn.linear_model import LogisticRegression\n",
    "from sklearn.naive_bayes import BernoulliNB\n",
    "from sklearn import metrics\n",
    "%matplotlib inline"
   ]
  },
  {
   "cell_type": "code",
   "execution_count": 2,
   "metadata": {},
   "outputs": [],
   "source": [
    "# Reading the file\n",
    "with open(\"/Users/harshitsrivastava/Desktop/Data/rfa_all.NL-SEPARATED.txt\") as f:\n",
    "    lines = f.readlines()\n",
    "    \n",
    "# Creating a dictionary\n",
    "df = {}\n",
    "for i in lines:\n",
    "    # Removing bad lines from the data\n",
    "    if i == \"\\n\" or i == \" \":\n",
    "        continue\n",
    "        \n",
    "    # Splitting data into key-value pairs\n",
    "    i = i.strip()\n",
    "    key, value = i.split(\":\", 1)\n",
    "    \n",
    "    # Storing the values in the form of key, value pairs\n",
    "    df.setdefault(key, [])\n",
    "    # Appending the Key with multiple values\n",
    "    df[key].append(value)\n",
    "\n",
    "# Converting the dictionary to DataFrame\n",
    "df = pd.DataFrame(df)"
   ]
  },
  {
   "cell_type": "code",
   "execution_count": 3,
   "metadata": {
    "scrolled": true
   },
   "outputs": [
    {
     "data": {
      "text/html": [
       "<div>\n",
       "<style>\n",
       "    .dataframe thead tr:only-child th {\n",
       "        text-align: right;\n",
       "    }\n",
       "\n",
       "    .dataframe thead th {\n",
       "        text-align: left;\n",
       "    }\n",
       "\n",
       "    .dataframe tbody tr th {\n",
       "        vertical-align: top;\n",
       "    }\n",
       "</style>\n",
       "<table border=\"1\" class=\"dataframe\">\n",
       "  <thead>\n",
       "    <tr style=\"text-align: right;\">\n",
       "      <th></th>\n",
       "      <th>DAT</th>\n",
       "      <th>RES</th>\n",
       "      <th>SRC</th>\n",
       "      <th>TGT</th>\n",
       "      <th>TXT</th>\n",
       "      <th>VOT</th>\n",
       "      <th>YEA</th>\n",
       "    </tr>\n",
       "  </thead>\n",
       "  <tbody>\n",
       "    <tr>\n",
       "      <th>0</th>\n",
       "      <td>23:13, 19 April 2013</td>\n",
       "      <td>1</td>\n",
       "      <td>Steel1943</td>\n",
       "      <td>BDD</td>\n",
       "      <td>'''Support''' as co-nom.</td>\n",
       "      <td>1</td>\n",
       "      <td>2013</td>\n",
       "    </tr>\n",
       "    <tr>\n",
       "      <th>1</th>\n",
       "      <td>01:04, 20 April 2013</td>\n",
       "      <td>1</td>\n",
       "      <td>Cuchullain</td>\n",
       "      <td>BDD</td>\n",
       "      <td>'''Support''' as nominator.--</td>\n",
       "      <td>1</td>\n",
       "      <td>2013</td>\n",
       "    </tr>\n",
       "    <tr>\n",
       "      <th>2</th>\n",
       "      <td>23:43, 19 April 2013</td>\n",
       "      <td>1</td>\n",
       "      <td>INeverCry</td>\n",
       "      <td>BDD</td>\n",
       "      <td>'''Support''' per noms.</td>\n",
       "      <td>1</td>\n",
       "      <td>2013</td>\n",
       "    </tr>\n",
       "    <tr>\n",
       "      <th>3</th>\n",
       "      <td>00:11, 20 April 2013</td>\n",
       "      <td>1</td>\n",
       "      <td>Cncmaster</td>\n",
       "      <td>BDD</td>\n",
       "      <td>'''Support''' per noms. BDD is a strong contri...</td>\n",
       "      <td>1</td>\n",
       "      <td>2013</td>\n",
       "    </tr>\n",
       "    <tr>\n",
       "      <th>4</th>\n",
       "      <td>00:56, 20 April 2013</td>\n",
       "      <td>1</td>\n",
       "      <td>Miniapolis</td>\n",
       "      <td>BDD</td>\n",
       "      <td>'''Support''', with great pleasure. I work wit...</td>\n",
       "      <td>1</td>\n",
       "      <td>2013</td>\n",
       "    </tr>\n",
       "  </tbody>\n",
       "</table>\n",
       "</div>"
      ],
      "text/plain": [
       "                    DAT RES         SRC  TGT  \\\n",
       "0  23:13, 19 April 2013   1   Steel1943  BDD   \n",
       "1  01:04, 20 April 2013   1  Cuchullain  BDD   \n",
       "2  23:43, 19 April 2013   1   INeverCry  BDD   \n",
       "3  00:11, 20 April 2013   1   Cncmaster  BDD   \n",
       "4  00:56, 20 April 2013   1  Miniapolis  BDD   \n",
       "\n",
       "                                                 TXT VOT   YEA  \n",
       "0                           '''Support''' as co-nom.   1  2013  \n",
       "1                      '''Support''' as nominator.--   1  2013  \n",
       "2                            '''Support''' per noms.   1  2013  \n",
       "3  '''Support''' per noms. BDD is a strong contri...   1  2013  \n",
       "4  '''Support''', with great pleasure. I work wit...   1  2013  "
      ]
     },
     "execution_count": 3,
     "metadata": {},
     "output_type": "execute_result"
    }
   ],
   "source": [
    "df.head()"
   ]
  },
  {
   "cell_type": "markdown",
   "metadata": {},
   "source": [
    "#### 2. Using the VOT column as the target variable, coding the values as -1 or 0  as '0' and 1 to stay as '1'\n"
   ]
  },
  {
   "cell_type": "code",
   "execution_count": 4,
   "metadata": {
    "scrolled": true
   },
   "outputs": [],
   "source": [
    "# replacing the rows with -1 with 0\n",
    "df['VOT'] = df['VOT'].replace('-1', '0')"
   ]
  },
  {
   "cell_type": "code",
   "execution_count": 9,
   "metadata": {},
   "outputs": [
    {
     "name": "stdout",
     "output_type": "stream",
     "text": [
      "Stored 'df' (DataFrame)\n"
     ]
    }
   ],
   "source": [
    "%store df"
   ]
  },
  {
   "cell_type": "markdown",
   "metadata": {},
   "source": [
    "#### 3. Putting all of the text (TXT column) into a data frame called `X` and the target variable in a data frame called `Y`\n",
    "Creating a train/test split with 75% of the data to training"
   ]
  },
  {
   "cell_type": "code",
   "execution_count": 5,
   "metadata": {},
   "outputs": [],
   "source": [
    "# Creating the Feature and Target variables\n",
    "X = df['TXT']\n",
    "Y = df['VOT']\n",
    "\n",
    "# Splitting the data using train_test_split function from scikit learn\n",
    "X_train, X_test, Y_train, Y_test = train_test_split(X, Y, train_size=.75)"
   ]
  },
  {
   "cell_type": "markdown",
   "metadata": {},
   "source": [
    "#### 4. Creating a binary `CountVectorizer()` and `TfidfVectorizer()`\n",
    "We'll be using the original single words as well as bigrams. Also, using an \"english\" stop word list. We will then fit these to the training data to extract a vocabulary and then transform both the train and test data. (3 points)"
   ]
  },
  {
   "cell_type": "code",
   "execution_count": 6,
   "metadata": {},
   "outputs": [],
   "source": [
    "# Initializing Binary CountVectorizer, using single words as well as bigrams, using 'english' stop words list\n",
    "binary_vectorizer = CountVectorizer(binary=True, ngram_range=(1, 2), stop_words='english', encoding=u'utf-8')\n",
    "\n",
    "# Fitting the training data\n",
    "binary_vectorizer.fit(X_train)\n",
    "\n",
    "# Transforming the datasets\n",
    "df_train_binary = binary_vectorizer.transform(X_train)\n",
    "df_test_binary = binary_vectorizer.transform(X_test)\n",
    "\n",
    "# Initializing TfIdf Vectorizer, using single words as well as bigrams, using 'english' stop words list\n",
    "tfidf_vectorizer = TfidfVectorizer(ngram_range=(1, 2), stop_words='english')\n",
    "\n",
    "# Fitting the training data\n",
    "tfidf_vectorizer.fit(X_train)\n",
    "\n",
    "# Transforming the datasets\n",
    "df_train_tfidf = tfidf_vectorizer.transform(X_train)\n",
    "df_test_tfidf = tfidf_vectorizer.transform(X_test)"
   ]
  },
  {
   "cell_type": "code",
   "execution_count": 7,
   "metadata": {
    "scrolled": true
   },
   "outputs": [
    {
     "data": {
      "text/plain": [
       "[u'wikipedia surely',\n",
       " u'spidern',\n",
       " u'count_edits',\n",
       " u'cautious closing',\n",
       " u'rfa vetted',\n",
       " u'administrators focus',\n",
       " u'barometer admin',\n",
       " u'uses bag',\n",
       " u'helpful wp',\n",
       " u'using know',\n",
       " u'policy saying',\n",
       " u'better covered',\n",
       " u'time swing',\n",
       " u'temperment desired',\n",
       " u'doing demonstrate',\n",
       " u'came helped',\n",
       " u'consider does',\n",
       " u'creator respect',\n",
       " u'nom add',\n",
       " u'thoroughly reviewed']"
      ]
     },
     "execution_count": 7,
     "metadata": {},
     "output_type": "execute_result"
    }
   ],
   "source": [
    "# Sample Output\n",
    "list(binary_vectorizer.vocabulary_.keys())[0:20]"
   ]
  },
  {
   "cell_type": "markdown",
   "metadata": {},
   "source": [
    "#### 5. Using `LogisticRegression()` and `BernoulliNB()` models to predict the vote based on the input text. \n",
    "In a single plot, showing the AUC curve for both classifiers and both the binary and tfidf feature sets. In the legend, the area under the ROC curve (AUC) is mentioned. "
   ]
  },
  {
   "cell_type": "code",
   "execution_count": 8,
   "metadata": {},
   "outputs": [
    {
     "data": {
      "text/plain": [
       "(0, 1)"
      ]
     },
     "execution_count": 8,
     "metadata": {},
     "output_type": "execute_result"
    },
    {
     "data": {
      "image/png": "[encoded data removed]",
      "text/plain": [
       "<matplotlib.figure.Figure at 0x1143a6850>"
      ]
     },
     "metadata": {},
     "output_type": "display_data"
    }
   ],
   "source": [
    "# Initializing the different models \n",
    "LR_model_binary = LogisticRegression()\n",
    "LR_model_tfidf = LogisticRegression()\n",
    "NB_model_binary = BernoulliNB()\n",
    "NB_model_tfidf = BernoulliNB()\n",
    "\n",
    "# Changing the string values to int\n",
    "Y_test = np.array(Y_test).astype(int)\n",
    "\n",
    "# 1 --- LOGISTIC REGRESSION MODEL\n",
    "### Logistic Regression model for Binary Count Vectorizer\n",
    "LR_model_binary.fit(df_train_binary, Y_train)\n",
    "LR_binary_pred = LR_model_binary.predict_proba(df_test_binary)[:,1]\n",
    "LR_binary_AUC = metrics.roc_auc_score(Y_test, LR_binary_pred)\n",
    "LR_bin_fpr, LR_bin_tpr, LR_bin_thresh = metrics.roc_curve(Y_test, LR_model_binary.predict_proba(df_test_binary)[:,1])\n",
    "\n",
    "### Logisitc Regression model for TF-IDF Vectorizer\n",
    "LR_model_tfidf.fit(df_train_tfidf, Y_train)\n",
    "LR_tfidf_pred = LR_model_tfidf.predict_proba(df_test_tfidf)[:,1]\n",
    "LR_tfidf_AUC = metrics.roc_auc_score(Y_test, LR_tfidf_pred)\n",
    "LR_tfidf_fpr, LR_tfidf_tpr, LR_tfidf_thresh = metrics.roc_curve(Y_test, LR_model_tfidf.predict_proba(df_test_tfidf)[:,1])\n",
    "\n",
    "# 2 -- BERNOULLI NAIVE BAYES MODEL\n",
    "### Bernoulli Naive Bayes model for Binary Vector Count Vectorizer\n",
    "NB_model_binary.fit(df_train_binary, Y_train)\n",
    "NB_binary_pred = NB_model_binary.predict_proba(df_test_binary)[:,1]\n",
    "NB_binary_AUC = metrics.roc_auc_score(Y_test, NB_binary_pred)\n",
    "NB_bin_fpr, NB_bin_tpr, NB_bin_thresh = metrics.roc_curve(Y_test, NB_model_binary.predict_proba(df_test_binary)[:,1])\n",
    "\n",
    "### Bernoulli Naive Bayes model for TF-IDF Vectorizer\n",
    "NB_model_tfidf.fit(df_train_binary, Y_train)\n",
    "NB_tfidf_pred = NB_model_tfidf.predict_proba(df_test_tfidf)[:,1]\n",
    "NB_tfidf_AUC = metrics.roc_auc_score(Y_test, NB_tfidf_pred)\n",
    "NB_tfidf_fpr, NB_tfidf_tpr, NB_tfidf_thresh = metrics.roc_curve(Y_test, NB_model_tfidf.predict_proba(df_test_tfidf)[:,1])\n",
    "\n",
    "# PLOTTING THE ROC CURVE\n",
    "### Setting the figure size\n",
    "plt.figure(figsize=[12, 8])\n",
    "\n",
    "### Plotting the different models using different colors and using label to depict the AUC score\n",
    "plt.plot(LR_bin_fpr, LR_bin_tpr, label='Logistic Regression - Binary, AUC='+str(LR_binary_AUC), color = 'y')\n",
    "plt.plot(LR_tfidf_fpr, LR_tfidf_tpr, label='Logistic Regression - TF-IDF, AUC='+str(LR_tfidf_AUC), color = 'r')\n",
    "plt.plot(NB_bin_fpr, NB_bin_tpr, label='Bernoulli Naive Bayes - Binary, AUC='+str(NB_binary_AUC), color = 'b')\n",
    "plt.plot(NB_tfidf_fpr, NB_tfidf_tpr, label='Bernoulli Naive Bayes - TF-IDF, AUC='+str(NB_tfidf_AUC), color = 'g')\n",
    "### Plotting the 45 degree line\n",
    "plt.plot([0, 1], [0, 1],'k--')\n",
    "### Labelling the axes, adding Title and limiting the window\n",
    "plt.xlabel(\"False-positive Rate\", fontsize = 'large')\n",
    "plt.ylabel(\"True-Positive Rate\", fontsize = 'large')\n",
    "plt.title(\"ROC Curve\", fontsize = 'large')\n",
    "plt.legend()\n",
    "plt.xlim([0, 1])\n",
    "plt.ylim([0, 1])"
   ]
  },
  {
   "cell_type": "markdown",
   "metadata": {},
   "source": [
    "#### Which model do you think is doing a better job?\n",
    "    \n",
    "<span style=\"color:blue\">\n",
    "As we can see from the figure, Logistic Regression has better AUC scores for both the methods. This may be due to the fact that Naive Bayes makes an assumption that the input features are conditionally independent of each other given the output label. NB considers all feature weights independently so when there is correlation between the features, NB double-counts the weights and doubles the influence on the decision. Logistic Regression model on the other hand considers all features together, so, when there is correlation between the features, it compensates by splitting the difference and lowering the weights. Here, in text data, there is high correlation amongst the features themselves which is in effect lowering down the accuracy of NB model as it is over-estimating the correlated features, LR on the other hand is facing no issues in this case and performing better than NB and getting a near perfect score.\n",
    "\n",
    "</span>\n",
    "</p>"
   ]
  }
 ],
 "metadata": {
  "kernelspec": {
   "display_name": "Python 2",
   "language": "python",
   "name": "python2"
  },
  "language_info": {
   "codemirror_mode": {
    "name": "ipython",
    "version": 2
   },
   "file_extension": ".py",
   "mimetype": "text/x-python",
   "name": "python",
   "nbconvert_exporter": "python",
   "pygments_lexer": "ipython2",
   "version": "2.7.13"
  }
 },
 "nbformat": 4,
 "nbformat_minor": 1
}
